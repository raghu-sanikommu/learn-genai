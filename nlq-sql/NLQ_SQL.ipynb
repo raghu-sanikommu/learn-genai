{
  "nbformat": 4,
  "nbformat_minor": 0,
  "metadata": {
    "colab": {
      "provenance": [],
      "authorship_tag": "ABX9TyP1cLJktaxKEyPkKYGUsAv+",
      "include_colab_link": true
    },
    "kernelspec": {
      "name": "python3",
      "display_name": "Python 3"
    },
    "language_info": {
      "name": "python"
    }
  },
  "cells": [
    {
      "cell_type": "markdown",
      "metadata": {
        "id": "view-in-github",
        "colab_type": "text"
      },
      "source": [
        "<a href=\"https://colab.research.google.com/github/raghu-sanikommu/learn-genai/blob/main/nlq-sql/NLQ_SQL.ipynb\" target=\"_parent\"><img src=\"https://colab.research.google.com/assets/colab-badge.svg\" alt=\"Open In Colab\"/></a>"
      ]
    },
    {
      "cell_type": "markdown",
      "source": [
        "# 0: Installation and Imports"
      ],
      "metadata": {
        "id": "eIZt852z_nmB"
      }
    },
    {
      "cell_type": "code",
      "execution_count": 1,
      "metadata": {
        "colab": {
          "base_uri": "https://localhost:8080/"
        },
        "id": "tKsvi64McS_X",
        "outputId": "ec3d7925-9884-4fca-aa6a-57e4b5202ce0"
      },
      "outputs": [
        {
          "output_type": "stream",
          "name": "stdout",
          "text": [
            "Requirement already satisfied: numpy in /usr/local/lib/python3.10/dist-packages (1.26.4)\n",
            "Requirement already satisfied: pandas in /usr/local/lib/python3.10/dist-packages (2.2.2)\n",
            "Requirement already satisfied: python-dateutil>=2.8.2 in /usr/local/lib/python3.10/dist-packages (from pandas) (2.8.2)\n",
            "Requirement already satisfied: pytz>=2020.1 in /usr/local/lib/python3.10/dist-packages (from pandas) (2024.2)\n",
            "Requirement already satisfied: tzdata>=2022.7 in /usr/local/lib/python3.10/dist-packages (from pandas) (2024.2)\n",
            "Requirement already satisfied: six>=1.5 in /usr/local/lib/python3.10/dist-packages (from python-dateutil>=2.8.2->pandas) (1.16.0)\n"
          ]
        }
      ],
      "source": [
        "!pip install numpy pandas"
      ]
    },
    {
      "cell_type": "code",
      "source": [
        "import pandas as pd\n",
        "import numpy as np\n",
        "import sqlite3"
      ],
      "metadata": {
        "id": "1mQiYyYkclgi"
      },
      "execution_count": 2,
      "outputs": []
    },
    {
      "cell_type": "markdown",
      "source": [
        "# 1: Load sqlite from csv"
      ],
      "metadata": {
        "id": "qeT3vcEd_uph"
      }
    },
    {
      "cell_type": "code",
      "source": [
        "conn = sqlite3.connect('students.db')\n",
        "\n",
        "df = pd.read_csv('student-dataset.csv')\n",
        "print(df.head(1))\n",
        "df.to_sql('student', conn, if_exists='replace', index=False)\n",
        "\n",
        "print(\"-----------------------\")\n",
        "\n",
        "df = pd.read_csv('college.csv')\n",
        "print(df.head(1))\n",
        "df.to_sql('college', conn, if_exists='replace', index=False)\n",
        "\n",
        "conn.close()"
      ],
      "metadata": {
        "colab": {
          "base_uri": "https://localhost:8080/"
        },
        "id": "UpDowSltcs0D",
        "outputId": "f1c1a5cb-4767-4284-a74b-0f242afb8476"
      },
      "execution_count": 40,
      "outputs": [
        {
          "output_type": "stream",
          "name": "stdout",
          "text": [
            "   id       name nationality    city  latitude  longitude gender  \\\n",
            "0   0  Kiana Lor       China  Suzhou     31.31     120.62      F   \n",
            "\n",
            "   ethnic.group  age  english.grade  math.grade  sciences.grade  \\\n",
            "0           NaN   22            3.5         3.7             3.1   \n",
            "\n",
            "   language.grade  portfolio.rating  coverletter.rating  refletter.rating  \n",
            "0             1.0                 4                 4.0                 4  \n",
            "-----------------------\n",
            "                       Name PredominantDegree HighestDegree FundingModel  \\\n",
            "0  Alabama A & M University        Bachelor's      Graduate       Public   \n",
            "\n",
            "      Region      Geography  AdmissionRate  ACTMedian  SATAverage  \\\n",
            "0  Southeast  Mid-size City         0.8989         17         823   \n",
            "\n",
            "   AverageCost  Expenditure  AverageFacultySalary  MedianDebt  \\\n",
            "0        18888         7459                  7079     19500.0   \n",
            "\n",
            "   AverageAgeofEntry  MedianFamilyIncome  MedianEarnings  \n",
            "0          20.629999             29039.0           27000  \n"
          ]
        }
      ]
    },
    {
      "cell_type": "markdown",
      "source": [
        "# 2: Form Schema String of sqlite"
      ],
      "metadata": {
        "id": "1VZINF0j_26H"
      }
    },
    {
      "cell_type": "code",
      "source": [
        "# Connect to sqlite\n",
        "conn = sqlite3.connect('students.db')\n",
        "cursor = conn.cursor()\n",
        "\n",
        "# Retrieve table names\n",
        "cursor.execute(\"SELECT name FROM sqlite_master WHERE type='table';\")\n",
        "tables = cursor.fetchall()\n",
        "\n",
        "# Form the schema string\n",
        "schema_str = \"\"\n",
        "\n",
        "# Get schema definitions\n",
        "for table_name in tables:\n",
        "  table_name = table_name[0]  # Extract table name from tuple\n",
        "  cursor.execute(f\"PRAGMA table_info({table_name});\")\n",
        "  schema = cursor.fetchall()\n",
        "\n",
        "  # Get first row data\n",
        "  cursor.execute(f\"SELECT * FROM {table_name} LIMIT 1\")\n",
        "  first_row = list(cursor.fetchone())\n",
        "\n",
        "  schema_str += f\"Table: '{table_name}' \\n\"\n",
        "  schema_str += \"Columns: \"\n",
        "  schema_str += str([(column[1], column[2], first_row[index]) for index, column in enumerate(schema)]) # Each column is a tuple with (cid, name, type, notnull, dflt_value, pk)\n",
        "  schema_str += \"\\n \\n\"\n",
        "\n",
        "\n",
        "print(schema_str)\n",
        "\n",
        "# Close the connection\n",
        "conn.close()"
      ],
      "metadata": {
        "colab": {
          "base_uri": "https://localhost:8080/"
        },
        "id": "DJ7amJ9W5nH_",
        "outputId": "722126d7-ff5a-4da2-ec68-08b117ab6099"
      },
      "execution_count": 41,
      "outputs": [
        {
          "output_type": "stream",
          "name": "stdout",
          "text": [
            "Table: 'student' \n",
            "Columns: [('id', 'INTEGER', 0), ('name', 'TEXT', 'Kiana Lor'), ('nationality', 'TEXT', 'China'), ('city', 'TEXT', 'Suzhou'), ('latitude', 'REAL', 31.31), ('longitude', 'REAL', 120.62), ('gender', 'TEXT', 'F'), ('ethnic.group', 'REAL', None), ('age', 'INTEGER', 22), ('english.grade', 'REAL', 3.5), ('math.grade', 'REAL', 3.7), ('sciences.grade', 'REAL', 3.1), ('language.grade', 'REAL', 1.0), ('portfolio.rating', 'INTEGER', 4), ('coverletter.rating', 'REAL', 4.0), ('refletter.rating', 'INTEGER', 4)]\n",
            " \n",
            "Table: 'college' \n",
            "Columns: [('Name', 'TEXT', 'Alabama A & M University'), ('PredominantDegree', 'TEXT', \"Bachelor's\"), ('HighestDegree', 'TEXT', 'Graduate'), ('FundingModel', 'TEXT', 'Public'), ('Region', 'TEXT', 'Southeast'), ('Geography', 'TEXT', 'Mid-size City'), ('AdmissionRate', 'REAL', 0.8989), ('ACTMedian', 'INTEGER', 17), ('SATAverage', 'INTEGER', 823), ('AverageCost', 'INTEGER', 18888), ('Expenditure', 'INTEGER', 7459), ('AverageFacultySalary', 'INTEGER', 7079), ('MedianDebt', 'REAL', 19500.0), ('AverageAgeofEntry', 'REAL', 20.6299992), ('MedianFamilyIncome', 'REAL', 29039.0), ('MedianEarnings', 'INTEGER', 27000)]\n",
            " \n",
            "\n"
          ]
        }
      ]
    },
    {
      "cell_type": "markdown",
      "source": [
        "# 3: Prompt for NLQ & LLM Connection"
      ],
      "metadata": {
        "id": "CNlr1txa_9Gv"
      }
    },
    {
      "cell_type": "code",
      "source": [
        "llm_prompt = lambda question: f\"\"\"\n",
        "  You are an expert in converting English questions to SQL query!\n",
        "  The SQL database has the following tables and their respective columns:\n",
        "\n",
        "  # SQL Schema BEGIN\n",
        "  {schema_str}\n",
        "  # SQL Schema END\n",
        "\n",
        "  Explanation of above schema:\n",
        "  \"Table\" - Refers to the name of SQL Table\n",
        "  \"Columns\" - Refers to the columns of Table. It's a list of tuples and each tuple contain\n",
        "    1. Column Name, at index 0\n",
        "    2. Column Type, at index 1\n",
        "    3. Sample Data, at index 2\n",
        "\n",
        "  Few Shot Examples:\n",
        "  User Query: How many entries of student records are present?,\n",
        "  Response: SELECT COUNT(*) FROM student;\n",
        "\n",
        "  Important Note:\n",
        "  The Response should be a simple string and do not wrap between ```sql ```.\n",
        "\n",
        "  Now, given below is the user query. Convert it to SQL query:\n",
        "  User Query: {question}\n",
        "  Response:\n",
        "\"\"\"\n",
        "\n",
        "import google.generativeai as genai\n",
        "from google.colab import userdata\n",
        "\n",
        "GOOGLE_API_KEY=userdata.get('GOOGLE_API_KEY')\n",
        "llm_model = 'gemini-1.5-flash-latest'\n",
        "\n",
        "genai.configure(api_key=GOOGLE_API_KEY)\n",
        "gemini_model = genai.GenerativeModel(model_name=llm_model)"
      ],
      "metadata": {
        "id": "U7sYPy-wAFem"
      },
      "execution_count": 42,
      "outputs": []
    },
    {
      "cell_type": "markdown",
      "source": [
        "# 4: NLQ in action"
      ],
      "metadata": {
        "id": "WthYeGkNAeIw"
      }
    },
    {
      "cell_type": "code",
      "source": [
        "# question = \"How many entries of records are present in student table?\"\n",
        "# question = \"List all colleges with admission rate more than 80%\"\n",
        "question = \"How many students are there from china?\"\n",
        "\n",
        "response = gemini_model.generate_content([llm_prompt(question)])\n",
        "print(response.text)"
      ],
      "metadata": {
        "colab": {
          "base_uri": "https://localhost:8080/",
          "height": 52
        },
        "id": "5dbjbVl3fFS1",
        "outputId": "a7d1c3cb-7a49-4151-c9a9-90b9f85dbf34"
      },
      "execution_count": 46,
      "outputs": [
        {
          "output_type": "stream",
          "name": "stdout",
          "text": [
            "SELECT COUNT(*) FROM student WHERE nationality = 'China' \n",
            "\n"
          ]
        }
      ]
    },
    {
      "cell_type": "markdown",
      "source": [
        "# 5: Final Output"
      ],
      "metadata": {
        "id": "Gcujey2mAj-u"
      }
    },
    {
      "cell_type": "code",
      "source": [
        "conn = sqlite3.connect('students.db')\n",
        "\n",
        "cursor = conn.cursor()\n",
        "\n",
        "cursor.execute(response.text)\n",
        "results = cursor.fetchall()\n",
        "\n",
        "df = pd.DataFrame(results)\n",
        "print(df)\n",
        "\n",
        "conn.close()"
      ],
      "metadata": {
        "colab": {
          "base_uri": "https://localhost:8080/"
        },
        "id": "ie7hEjZD2qYJ",
        "outputId": "796d6914-185c-4d6c-c014-53a518a7bda0"
      },
      "execution_count": 47,
      "outputs": [
        {
          "output_type": "stream",
          "name": "stdout",
          "text": [
            "    0\n",
            "0  13\n"
          ]
        }
      ]
    }
  ]
}